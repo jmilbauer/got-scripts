{
 "cells": [
  {
   "cell_type": "markdown",
   "metadata": {},
   "source": [
    "# Hidden Markov Models"
   ]
  },
  {
   "cell_type": "markdown",
   "metadata": {},
   "source": []
  },
  {
   "cell_type": "markdown",
   "metadata": {},
   "source": []
  },
  {
   "cell_type": "markdown",
   "metadata": {},
   "source": [
    "# Setup"
   ]
  },
  {
   "cell_type": "code",
   "execution_count": 2,
   "metadata": {
    "collapsed": true
   },
   "outputs": [],
   "source": [
    "import numpy as np\n",
    "\n",
    "import sys\n",
    "import os"
   ]
  },
  {
   "cell_type": "markdown",
   "metadata": {},
   "source": [
    "# Data"
   ]
  },
  {
   "cell_type": "markdown",
   "metadata": {},
   "source": [
    "Now, let's read the data for the sequence-to-sequence game of thrones model.\n",
    "\n",
    "Here, I've compiled a folder with transcripts of each game of thrones episode. I'll read the scripts into a list of all the lines, and then I'll embed the scripts as a sequence of one-hot vectors for each character."
   ]
  },
  {
   "cell_type": "code",
   "execution_count": 6,
   "metadata": {
    "collapsed": false
   },
   "outputs": [],
   "source": [
    "scripts_path = os.path.abspath('//Users/jeremiahsafe/Documents/Data/GOTScripts')\n",
    "script_files = [os.path.join(scripts_path, x) for x in os.listdir(scripts_path)]\n",
    "\n",
    "got_lines = []\n",
    "alphabet = set(['<s>', '</s>'])\n",
    "for sf in script_files:\n",
    "    with open(sf, 'r') as fp:\n",
    "        for line in fp:\n",
    "            line = line.strip()\n",
    "            for c in line.lower():\n",
    "                alphabet.add(c)\n",
    "            got_lines.append(['<s>'] + list(line.lower()) + ['</s>'])"
   ]
  },
  {
   "cell_type": "markdown",
   "metadata": {},
   "source": [
    "# Model: Language Generation"
   ]
  },
  {
   "cell_type": "code",
   "execution_count": 3,
   "metadata": {
    "collapsed": false
   },
   "outputs": [],
   "source": [
    "class HMM(object):\n",
    "    \n",
    "    def __init__(self, state_count, symbol_count, emission_symbols, lambt=.1, lambe=.001):\n",
    "        self.transition = np.randn((state_count, state_count))\n",
    "        self.emission = np.randn((state_count, symbol_count))\n",
    "        self.states = list(range(state_count))\n",
    "        self.start = 0\n",
    "        self.end = 1\n",
    "        self.alphabet = emission_symbols\n",
    "        \n",
    "    def p_transition(self, y, y_):\n",
    "        if (y == self.start and y_ = self.end) or y_ = self.start or y = self.end:\n",
    "            return 0\n",
    "        else:\n",
    "            return self.transition[y][y_]\n",
    "        \n",
    "    def p_emission(self, y, x):\n",
    "        return self.emission[y][x]\n",
    "    \n",
    "    def viterbi(self, observations):\n",
    "        v = {}\n",
    "        l = {}\n",
    "        \n",
    "        for state in self.state:\n",
    "            v[(1, state)] = self.transition[self.start][state] * self.emission[state][observations[1]]\n",
    "            l[(1, state)] = '<s>'\n",
    "            \n",
    "        for i in range(2, len(wordseq) - 1):\n",
    "            w = observations[i]\n",
    "            for state in self.states:\n",
    "                best_p = 0\n",
    "                best_state = None\n",
    "                for state_ in self.states:\n",
    "                    p = self.emission[state][w] * self.transition[state_][state] * v[(i-1, state_)]\n",
    "                    if p > best_p:\n",
    "                        best_p = p\n",
    "                        best_state = state_\n",
    "                        \n",
    "                v[(i, state)] = best_p\n",
    "                l[(i, state)] = best_state\n",
    "                \n",
    "        best_p = 0\n",
    "        best_state = None\n",
    "        for state in self.states:\n",
    "            p = self.transition[state][self.end] * v[(len(wordseq-2), state)]\n",
    "            if p > best_p:\n",
    "                best_p = p\n",
    "                best_state = state\n",
    "                \n",
    "        res = [self.end]\n",
    "        for i in range(len(wordseq)-1, 0, -1):\n",
    "            best_prev = l[(i, res[-1])]\n",
    "            res.append(best_prev)\n",
    "            \n",
    "        return res[::-1]\n",
    "    \n",
    "    def generate(self, prev_observations):\n",
    "        existing_state_seq = self.viterbi(prev_observations)\n",
    "        recent_state = existing_state_seq[-1]\n",
    "        sequence = prev_observations\n",
    "        while recent_state != self.end:\n",
    "            recent_state = self.next_state(recent_state)\n",
    "            sequence.append(self.emit_from_state(recent_state))\n",
    "        sequence.append('</s>')\n",
    "        return sequence\n",
    "    \n",
    "    def next_state(self, y):\n",
    "        return\n",
    "        \n",
    "    def emit_from_state(self, y):\n",
    "        return\n",
    "    \n",
    "    def forward(self, observations):\n",
    "        alpha = {}\n",
    "        for state in self.states:\n",
    "            alpha[(1, state)] = self.transition[self.start][state]\n",
    "            \n",
    "        for i, obs in enumerate(observations):\n",
    "            t = i + 2         \n",
    "    \n",
    "    def em_iterate(self, ):\n",
    "        for from_state in self.states:\n",
    "            from_i = \n",
    "        "
   ]
  },
  {
   "cell_type": "code",
   "execution_count": null,
   "metadata": {
    "collapsed": false
   },
   "outputs": [],
   "source": [
    "for x, target in sequence_pairs[:10]:\n",
    "    print(len(x), len(target))"
   ]
  },
  {
   "cell_type": "code",
   "execution_count": null,
   "metadata": {
    "collapsed": false
   },
   "outputs": [],
   "source": [
    "loss_fn = nn.NLLLoss()\n",
    "optimizer = optim.SGD(model.parameters(), lr = .1)\n",
    "\n",
    "for n in range(5):\n",
    "    running_loss = 0\n",
    "    for i, (x, target) in enumerate(sequence_pairs[:10]):\n",
    "        optimizer.zero_grad()\n",
    "        scores = model(x.view(len(x), -1))[:-1]\n",
    "        loss = loss_fn(scores, target)\n",
    "        loss.backward()\n",
    "        optimizer.step()\n",
    "\n",
    "        running_loss += loss.item()\n",
    "        if i & 500 == 499:\n",
    "            print(\"[{} {}] loss = {}\".format(n+1, i+1, running_loss))\n",
    "            running_loss = 0"
   ]
  },
  {
   "cell_type": "markdown",
   "metadata": {},
   "source": [
    "# Results"
   ]
  },
  {
   "cell_type": "code",
   "execution_count": null,
   "metadata": {
    "collapsed": true
   },
   "outputs": [],
   "source": []
  }
 ],
 "metadata": {
  "kernelspec": {
   "display_name": "Python [py3]",
   "language": "python",
   "name": "Python [py3]"
  },
  "language_info": {
   "codemirror_mode": {
    "name": "ipython",
    "version": 3
   },
   "file_extension": ".py",
   "mimetype": "text/x-python",
   "name": "python",
   "nbconvert_exporter": "python",
   "pygments_lexer": "ipython3",
   "version": "3.7.4"
  }
 },
 "nbformat": 4,
 "nbformat_minor": 0
}
